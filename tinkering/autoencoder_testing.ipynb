{
 "cells": [
  {
   "cell_type": "code",
   "outputs": [],
   "source": [
    "import matplotlib.pyplot as plt\n",
    "import netCDF4\n",
    "import os, glob\n",
    "import numpy as np\n",
    "from scipy.interpolate import griddata\n",
    "import h5py\n",
    "\n",
    "import tensorflow as tf\n",
    "from tensorflow.keras import layers, losses\n",
    "from tensorflow.keras.models import Model"
   ],
   "metadata": {
    "collapsed": false,
    "ExecuteTime": {
     "end_time": "2024-12-05T23:49:13.259813400Z",
     "start_time": "2024-12-05T23:49:13.241245300Z"
    }
   },
   "id": "2a7e460776549b7d",
   "execution_count": 10
  },
  {
   "cell_type": "code",
   "outputs": [
    {
     "name": "stdout",
     "output_type": "stream",
     "text": [
      "Combined data shape: (17520, 39125)\n"
     ]
    }
   ],
   "source": [
    "CMROOT = r\"C:\\Users\\axt5780\\OneDrive - The Pennsylvania State University\\PIML_project\\IMERG_vectors\"\n",
    "nc_files = glob.glob(os.path.join(CMROOT, \"*.nc\"))\n",
    "\n",
    "all_data = []\n",
    "for nc_file in nc_files:\n",
    "    channel_vec = netCDF4.Dataset(nc_file)\n",
    "    data = channel_vec['pmmhr'][:, :]\n",
    "    \n",
    "    if np.isnan(data).any():\n",
    "        valid_mask = ~np.isnan(data)\n",
    "        nan_mask = np.isnan(data)  \n",
    "        \n",
    "        x, y = np.meshgrid(np.arange(data.shape[1]), np.arange(data.shape[0]))\n",
    "      \n",
    "        interpolated_data = griddata(\n",
    "              points=(x[valid_mask], y[valid_mask]),\n",
    "              values=data[valid_mask],\n",
    "              xi=(x[nan_mask], y[nan_mask]),\n",
    "              method='linear'\n",
    "        )\n",
    "        \n",
    "        data[nan_mask] = interpolated_data\n",
    "        \n",
    "    all_data.append(data)\n",
    "    channel_vec.close()\n",
    "    \n",
    "train = np.concatenate(all_data, axis=0)\n",
    "\n",
    "print(\"Combined data shape:\", train.shape)"
   ],
   "metadata": {
    "collapsed": false,
    "ExecuteTime": {
     "end_time": "2024-12-05T23:49:23.853690300Z",
     "start_time": "2024-12-05T23:49:17.207352500Z"
    }
   },
   "id": "c2591876707bf1db",
   "execution_count": 11
  },
  {
   "cell_type": "code",
   "outputs": [],
   "source": [
    "class Autoencoder(Model):\n",
    "  def __init__(self, latent_dim, shape):\n",
    "    super(Autoencoder, self).__init__()\n",
    "    self.latent_dim = latent_dim\n",
    "    self.shape = shape\n",
    "    self.encoder = tf.keras.Sequential([\n",
    "      layers.Flatten(),\n",
    "      layers.Dense(latent_dim, activation='relu'),\n",
    "    ])\n",
    "    self.decoder = tf.keras.Sequential([\n",
    "      layers.Dense(tf.math.reduce_prod(shape).numpy(), activation='sigmoid'),\n",
    "      layers.Reshape(shape)\n",
    "    ])\n",
    "\n",
    "  def call(self, x):\n",
    "    encoded = self.encoder(x)\n",
    "    decoded = self.decoder(encoded)\n",
    "    return decoded"
   ],
   "metadata": {
    "collapsed": false,
    "ExecuteTime": {
     "end_time": "2024-12-05T23:49:24.768347200Z",
     "start_time": "2024-12-05T23:49:24.750429400Z"
    }
   },
   "id": "186531811dab7bbd",
   "execution_count": 12
  },
  {
   "cell_type": "code",
   "outputs": [
    {
     "name": "stdout",
     "output_type": "stream",
     "text": [
      "Epoch 1/100\n",
      "548/548 [==============================] - 5s 9ms/step - loss: 0.3755\n",
      "Epoch 2/100\n",
      "548/548 [==============================] - 4s 8ms/step - loss: 0.3424\n",
      "Epoch 3/100\n",
      "548/548 [==============================] - 4s 7ms/step - loss: 0.3359\n",
      "Epoch 4/100\n",
      "548/548 [==============================] - 4s 7ms/step - loss: 0.3331\n",
      "Epoch 5/100\n",
      "548/548 [==============================] - 4s 7ms/step - loss: 0.3315\n",
      "Epoch 6/100\n",
      "548/548 [==============================] - 4s 7ms/step - loss: 0.3304\n",
      "Epoch 7/100\n",
      "548/548 [==============================] - 4s 7ms/step - loss: 0.3296\n",
      "Epoch 8/100\n",
      "548/548 [==============================] - 4s 7ms/step - loss: 0.3289\n",
      "Epoch 9/100\n",
      "548/548 [==============================] - 4s 7ms/step - loss: 0.3284\n",
      "Epoch 10/100\n",
      "548/548 [==============================] - 4s 7ms/step - loss: 0.3279\n",
      "Epoch 11/100\n",
      "548/548 [==============================] - 4s 7ms/step - loss: 0.3276\n",
      "Epoch 12/100\n",
      "548/548 [==============================] - 4s 7ms/step - loss: 0.3273\n",
      "Epoch 13/100\n",
      "548/548 [==============================] - 4s 7ms/step - loss: 0.3270\n",
      "Epoch 14/100\n",
      "548/548 [==============================] - 4s 7ms/step - loss: 0.3267\n",
      "Epoch 15/100\n",
      "548/548 [==============================] - 4s 7ms/step - loss: 0.3264\n",
      "Epoch 16/100\n",
      "548/548 [==============================] - 4s 7ms/step - loss: 0.3262\n",
      "Epoch 17/100\n",
      "548/548 [==============================] - 4s 7ms/step - loss: 0.3260\n",
      "Epoch 18/100\n",
      "548/548 [==============================] - 4s 7ms/step - loss: 0.3258\n",
      "Epoch 19/100\n",
      "548/548 [==============================] - 4s 7ms/step - loss: 0.3256\n",
      "Epoch 20/100\n",
      "548/548 [==============================] - 4s 7ms/step - loss: 0.3255\n",
      "Epoch 21/100\n",
      "548/548 [==============================] - 4s 7ms/step - loss: 0.3253\n",
      "Epoch 22/100\n",
      "548/548 [==============================] - 4s 7ms/step - loss: 0.3252\n",
      "Epoch 23/100\n",
      "548/548 [==============================] - 4s 7ms/step - loss: 0.3251\n",
      "Epoch 24/100\n",
      "548/548 [==============================] - 4s 7ms/step - loss: 0.3250\n",
      "Epoch 25/100\n",
      "548/548 [==============================] - 4s 7ms/step - loss: 0.3248\n",
      "Epoch 26/100\n",
      "548/548 [==============================] - 4s 7ms/step - loss: 0.3247\n",
      "Epoch 27/100\n",
      "548/548 [==============================] - 4s 7ms/step - loss: 0.3247\n",
      "Epoch 28/100\n",
      "548/548 [==============================] - 4s 7ms/step - loss: 0.3246\n",
      "Epoch 29/100\n",
      "548/548 [==============================] - 4s 7ms/step - loss: 0.3245\n",
      "Epoch 30/100\n",
      "548/548 [==============================] - 4s 7ms/step - loss: 0.3244\n",
      "Epoch 31/100\n",
      "548/548 [==============================] - 4s 7ms/step - loss: 0.3244\n",
      "Epoch 32/100\n",
      "548/548 [==============================] - 4s 7ms/step - loss: 0.3243\n",
      "Epoch 33/100\n",
      "548/548 [==============================] - 4s 7ms/step - loss: 0.3242\n",
      "Epoch 34/100\n",
      "548/548 [==============================] - 4s 7ms/step - loss: 0.3242\n",
      "Epoch 35/100\n",
      "548/548 [==============================] - 4s 7ms/step - loss: 0.3241\n",
      "Epoch 36/100\n",
      "548/548 [==============================] - 4s 7ms/step - loss: 0.3241\n",
      "Epoch 37/100\n",
      "548/548 [==============================] - 4s 7ms/step - loss: 0.3240\n",
      "Epoch 38/100\n",
      "548/548 [==============================] - 4s 7ms/step - loss: 0.3240\n",
      "Epoch 39/100\n",
      "548/548 [==============================] - 4s 7ms/step - loss: 0.3239\n",
      "Epoch 40/100\n",
      "548/548 [==============================] - 4s 7ms/step - loss: 0.3239\n",
      "Epoch 41/100\n",
      "548/548 [==============================] - 4s 7ms/step - loss: 0.3238\n",
      "Epoch 42/100\n",
      "548/548 [==============================] - 4s 7ms/step - loss: 0.3238\n",
      "Epoch 43/100\n",
      "548/548 [==============================] - 4s 7ms/step - loss: 0.3238\n",
      "Epoch 44/100\n",
      "548/548 [==============================] - 4s 7ms/step - loss: 0.3238\n",
      "Epoch 45/100\n",
      "548/548 [==============================] - 4s 7ms/step - loss: 0.3237\n",
      "Epoch 46/100\n",
      "548/548 [==============================] - 4s 7ms/step - loss: 0.3237\n",
      "Epoch 47/100\n",
      "548/548 [==============================] - 4s 7ms/step - loss: 0.3237\n",
      "Epoch 48/100\n",
      "548/548 [==============================] - 4s 7ms/step - loss: 0.3236\n",
      "Epoch 49/100\n",
      "548/548 [==============================] - 4s 7ms/step - loss: 0.3236\n",
      "Epoch 50/100\n",
      "548/548 [==============================] - 4s 7ms/step - loss: 0.3236\n",
      "Epoch 51/100\n",
      "548/548 [==============================] - 4s 7ms/step - loss: 0.3236\n",
      "Epoch 52/100\n",
      "548/548 [==============================] - 4s 7ms/step - loss: 0.3236\n",
      "Epoch 53/100\n",
      "548/548 [==============================] - 4s 7ms/step - loss: 0.3235\n",
      "Epoch 54/100\n",
      "548/548 [==============================] - 4s 7ms/step - loss: 0.3235\n",
      "Epoch 55/100\n",
      "548/548 [==============================] - 4s 7ms/step - loss: 0.3235\n",
      "Epoch 56/100\n",
      "548/548 [==============================] - 4s 7ms/step - loss: 0.3235\n",
      "Epoch 57/100\n",
      "548/548 [==============================] - 4s 7ms/step - loss: 0.3234\n",
      "Epoch 58/100\n",
      "548/548 [==============================] - 4s 7ms/step - loss: 0.3234\n",
      "Epoch 59/100\n",
      "548/548 [==============================] - 4s 7ms/step - loss: 0.3234\n",
      "Epoch 60/100\n",
      "548/548 [==============================] - 4s 7ms/step - loss: 0.3234\n",
      "Epoch 61/100\n",
      "548/548 [==============================] - 4s 7ms/step - loss: 0.3234\n",
      "Epoch 62/100\n",
      "548/548 [==============================] - 4s 7ms/step - loss: 0.3234\n",
      "Epoch 63/100\n",
      "548/548 [==============================] - 4s 7ms/step - loss: 0.3233\n",
      "Epoch 64/100\n",
      "548/548 [==============================] - 4s 7ms/step - loss: 0.3233\n",
      "Epoch 65/100\n",
      "548/548 [==============================] - 4s 7ms/step - loss: 0.3233\n",
      "Epoch 66/100\n",
      "548/548 [==============================] - 4s 7ms/step - loss: 0.3233\n",
      "Epoch 67/100\n",
      "548/548 [==============================] - 4s 7ms/step - loss: 0.3233\n",
      "Epoch 68/100\n",
      "548/548 [==============================] - 4s 7ms/step - loss: 0.3233\n",
      "Epoch 69/100\n",
      "548/548 [==============================] - 4s 7ms/step - loss: 0.3233\n",
      "Epoch 70/100\n",
      "548/548 [==============================] - 4s 7ms/step - loss: 0.3233\n",
      "Epoch 71/100\n",
      "548/548 [==============================] - 4s 7ms/step - loss: 0.3232\n",
      "Epoch 72/100\n",
      "548/548 [==============================] - 4s 7ms/step - loss: 0.3232\n",
      "Epoch 73/100\n",
      "548/548 [==============================] - 4s 7ms/step - loss: 0.3232\n",
      "Epoch 74/100\n",
      "548/548 [==============================] - 4s 7ms/step - loss: 0.3232\n",
      "Epoch 75/100\n",
      "548/548 [==============================] - 4s 7ms/step - loss: 0.3232\n",
      "Epoch 76/100\n",
      "548/548 [==============================] - 4s 7ms/step - loss: 0.3232\n",
      "Epoch 77/100\n",
      "548/548 [==============================] - 4s 7ms/step - loss: 0.3232\n",
      "Epoch 78/100\n",
      "548/548 [==============================] - 4s 7ms/step - loss: 0.3232\n",
      "Epoch 79/100\n",
      "548/548 [==============================] - 4s 7ms/step - loss: 0.3232\n",
      "Epoch 80/100\n",
      "548/548 [==============================] - 4s 7ms/step - loss: 0.3232\n",
      "Epoch 81/100\n",
      "548/548 [==============================] - 4s 7ms/step - loss: 0.3232\n",
      "Epoch 82/100\n",
      "548/548 [==============================] - 4s 7ms/step - loss: 0.3231\n",
      "Epoch 83/100\n",
      "548/548 [==============================] - 4s 7ms/step - loss: 0.3231\n",
      "Epoch 84/100\n",
      "548/548 [==============================] - 4s 7ms/step - loss: 0.3231\n",
      "Epoch 85/100\n",
      "548/548 [==============================] - 4s 7ms/step - loss: 0.3231\n",
      "Epoch 86/100\n",
      "548/548 [==============================] - 4s 7ms/step - loss: 0.3231\n",
      "Epoch 87/100\n",
      "548/548 [==============================] - 4s 7ms/step - loss: 0.3231\n",
      "Epoch 88/100\n",
      "548/548 [==============================] - 4s 7ms/step - loss: 0.3231\n",
      "Epoch 89/100\n",
      "548/548 [==============================] - 4s 7ms/step - loss: 0.3231\n",
      "Epoch 90/100\n",
      "548/548 [==============================] - 4s 7ms/step - loss: 0.3231\n",
      "Epoch 91/100\n",
      "548/548 [==============================] - 4s 7ms/step - loss: 0.3231\n",
      "Epoch 92/100\n",
      "548/548 [==============================] - 4s 7ms/step - loss: 0.3231\n",
      "Epoch 93/100\n",
      "548/548 [==============================] - 4s 7ms/step - loss: 0.3231\n",
      "Epoch 94/100\n",
      "548/548 [==============================] - 4s 7ms/step - loss: 0.3231\n",
      "Epoch 95/100\n",
      "548/548 [==============================] - 4s 7ms/step - loss: 0.3231\n",
      "Epoch 96/100\n",
      "548/548 [==============================] - 4s 7ms/step - loss: 0.3231\n",
      "Epoch 97/100\n",
      "548/548 [==============================] - 4s 7ms/step - loss: 0.3231\n",
      "Epoch 98/100\n",
      "548/548 [==============================] - 4s 7ms/step - loss: 0.3231\n",
      "Epoch 99/100\n",
      "548/548 [==============================] - 4s 7ms/step - loss: 0.3231\n",
      "Epoch 100/100\n",
      "548/548 [==============================] - 4s 7ms/step - loss: 0.3231\n"
     ]
    }
   ],
   "source": [
    "shape = train.shape[1:]\n",
    "latent_dim = 64\n",
    "autoencoder = Autoencoder(latent_dim, shape)\n",
    "\n",
    "autoencoder.compile(optimizer='adam', loss=losses.MeanSquaredError())\n",
    "\n",
    "history = autoencoder.fit(train, train,\n",
    "              epochs=100,\n",
    "          shuffle=True)"
   ],
   "metadata": {
    "collapsed": false,
    "ExecuteTime": {
     "end_time": "2024-12-05T23:56:00.963971200Z",
     "start_time": "2024-12-05T23:49:31.282553600Z"
    }
   },
   "id": "e56a386fa6a9b21f",
   "execution_count": 13
  },
  {
   "cell_type": "code",
   "outputs": [
    {
     "data": {
      "text/plain": "<matplotlib.legend.Legend at 0x245e1f4c3a0>"
     },
     "execution_count": 14,
     "metadata": {},
     "output_type": "execute_result"
    },
    {
     "data": {
      "text/plain": "<Figure size 640x480 with 1 Axes>",
      "image/png": "[encoded data removed]"
     },
     "metadata": {},
     "output_type": "display_data"
    }
   ],
   "source": [
    "plt.plot(history.history[\"loss\"], label=\"Training Loss\")\n",
    "plt.legend()"
   ],
   "metadata": {
    "collapsed": false,
    "ExecuteTime": {
     "end_time": "2024-12-05T23:56:01.947453600Z",
     "start_time": "2024-12-05T23:56:01.771708600Z"
    }
   },
   "id": "2fdffd5167c695bb",
   "execution_count": 14
  },
  {
   "cell_type": "code",
   "outputs": [
    {
     "name": "stdout",
     "output_type": "stream",
     "text": [
      "Weights saved successfully.\n"
     ]
    }
   ],
   "source": [
    "autoencoder.save_weights(f'weights/IMERG_{latent_dim}_downsample.h5')\n",
    "print(\"Weights saved successfully.\")"
   ],
   "metadata": {
    "collapsed": false,
    "ExecuteTime": {
     "end_time": "2024-12-05T23:58:48.131394900Z",
     "start_time": "2024-12-05T23:58:48.081778300Z"
    }
   },
   "id": "4d8dce812eb7f4b2",
   "execution_count": 19
  }
 ],
 "metadata": {
  "kernelspec": {
   "display_name": "Python 3",
   "language": "python",
   "name": "python3"
  },
  "language_info": {
   "codemirror_mode": {
    "name": "ipython",
    "version": 2
   },
   "file_extension": ".py",
   "mimetype": "text/x-python",
   "name": "python",
   "nbconvert_exporter": "python",
   "pygments_lexer": "ipython2",
   "version": "2.7.6"
  }
 },
 "nbformat": 4,
 "nbformat_minor": 5
}
