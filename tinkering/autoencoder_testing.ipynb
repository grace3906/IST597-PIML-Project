{
 "cells": [
  {
   "cell_type": "code",
   "outputs": [],
   "source": [
    "import matplotlib.pyplot as plt\n",
    "import netCDF4\n",
    "import os, glob\n",
    "import numpy as np\n",
    "from scipy.interpolate import griddata\n",
    "import h5py\n",
    "\n",
    "import tensorflow as tf\n",
    "from tensorflow.keras import layers, losses\n",
    "from tensorflow.keras.models import Model"
   ],
   "metadata": {
    "collapsed": false,
    "ExecuteTime": {
     "end_time": "2024-12-05T23:49:13.259813400Z",
     "start_time": "2024-12-05T23:49:13.241245300Z"
    }
   },
   "id": "2a7e460776549b7d",
   "execution_count": 10
  },
  {
   "cell_type": "code",
   "outputs": [
    {
     "name": "stdout",
     "output_type": "stream",
     "text": [
      "Combined data shape: (17520, 39125)\n"
     ]
    }
   ],
   "source": [
    "CMROOT = r\"C:\\Users\\axt5780\\OneDrive - The Pennsylvania State University\\PIML_project\\IMERG_vectors\"\n",
    "nc_files = glob.glob(os.path.join(CMROOT, \"*.nc\"))\n",
    "\n",
    "all_data = []\n",
    "for nc_file in nc_files:\n",
    "    channel_vec = netCDF4.Dataset(nc_file)\n",
    "    data = channel_vec['pmmhr'][:, :]\n",
    "    \n",
    "    if np.isnan(data).any():\n",
    "        valid_mask = ~np.isnan(data)\n",
    "        nan_mask = np.isnan(data)  \n",
    "        \n",
    "        x, y = np.meshgrid(np.arange(data.shape[1]), np.arange(data.shape[0]))\n",
    "      \n",
    "        interpolated_data = griddata(\n",
    "              points=(x[valid_mask], y[valid_mask]),\n",
    "              values=data[valid_mask],\n",
    "              xi=(x[nan_mask], y[nan_mask]),\n",
    "              method='linear'\n",
    "        )\n",
    "        \n",
    "        data[nan_mask] = interpolated_data\n",
    "        \n",
    "    all_data.append(data)\n",
    "    channel_vec.close()\n",
    "    \n",
    "train = np.concatenate(all_data, axis=0)\n",
    "\n",
    "print(\"Combined data shape:\", train.shape)"
   ],
   "metadata": {
    "collapsed": false,
    "ExecuteTime": {
     "end_time": "2024-12-05T23:49:23.853690300Z",
     "start_time": "2024-12-05T23:49:17.207352500Z"
    }
   },
   "id": "c2591876707bf1db",
   "execution_count": 11
  },
  {
   "cell_type": "code",
   "outputs": [],
   "source": [
    "class Autoencoder(Model):\n",
    "  def __init__(self, latent_dim, shape):\n",
    "    super(Autoencoder, self).__init__()\n",
    "    self.latent_dim = latent_dim\n",
    "    self.shape = shape\n",
    "    self.encoder = tf.keras.Sequential([\n",
    "      layers.Flatten(),\n",
    "      layers.Dense(latent_dim, activation='relu'),\n",
    "    ])\n",
    "    self.decoder = tf.keras.Sequential([\n",
    "      layers.Dense(tf.math.reduce_prod(shape).numpy(), activation='sigmoid'),\n",
    "      layers.Reshape(shape)\n",
    "    ])\n",
    "\n",
    "  def call(self, x):\n",
    "    encoded = self.encoder(x)\n",
    "    decoded = self.decoder(encoded)\n",
    "    return decoded"
   ],
   "metadata": {
    "collapsed": false,
    "ExecuteTime": {
     "end_time": "2024-12-05T23:49:24.768347200Z",
     "start_time": "2024-12-05T23:49:24.750429400Z"
    }
   },
   "id": "186531811dab7bbd",
   "execution_count": 12
  },
  {
   "cell_type": "code",
   "outputs": [],
   "source": [
    "shape = train.shape[1:]\n",
    "latent_dim = 64"
   ],
   "metadata": {
    "collapsed": false,
    "ExecuteTime": {
     "end_time": "2024-12-06T00:08:51.947894600Z",
     "start_time": "2024-12-06T00:08:51.937531900Z"
    }
   },
   "id": "e56a386fa6a9b21f",
   "execution_count": 28
  },
  {
   "cell_type": "code",
   "outputs": [
    {
     "name": "stdout",
     "output_type": "stream",
     "text": [
      "Epoch 1/100\n",
      "548/548 [==============================] - 5s 8ms/step - loss: 0.3770\n",
      "Epoch 2/100\n",
      "548/548 [==============================] - 4s 8ms/step - loss: 0.3442\n",
      "Epoch 3/100\n",
      "548/548 [==============================] - 4s 7ms/step - loss: 0.3355\n",
      "Epoch 4/100\n",
      "548/548 [==============================] - 4s 7ms/step - loss: 0.3326\n",
      "Epoch 5/100\n",
      "548/548 [==============================] - 4s 7ms/step - loss: 0.3312\n",
      "Epoch 6/100\n",
      "548/548 [==============================] - 4s 7ms/step - loss: 0.3303\n",
      "Epoch 7/100\n",
      "548/548 [==============================] - 4s 7ms/step - loss: 0.3296\n",
      "Epoch 8/100\n",
      "548/548 [==============================] - 4s 7ms/step - loss: 0.3289\n",
      "Epoch 9/100\n",
      "548/548 [==============================] - 4s 7ms/step - loss: 0.3285\n",
      "Epoch 10/100\n",
      "548/548 [==============================] - 4s 7ms/step - loss: 0.3281\n",
      "Epoch 11/100\n",
      "548/548 [==============================] - 4s 7ms/step - loss: 0.3278\n",
      "Epoch 12/100\n",
      "548/548 [==============================] - 4s 7ms/step - loss: 0.3275\n",
      "Epoch 13/100\n",
      "548/548 [==============================] - 4s 7ms/step - loss: 0.3272\n",
      "Epoch 14/100\n",
      "548/548 [==============================] - 4s 7ms/step - loss: 0.3270\n",
      "Epoch 15/100\n",
      "548/548 [==============================] - 4s 7ms/step - loss: 0.3268\n",
      "Epoch 16/100\n",
      "548/548 [==============================] - 4s 7ms/step - loss: 0.3266\n",
      "Epoch 17/100\n",
      "548/548 [==============================] - 4s 7ms/step - loss: 0.3263\n",
      "Epoch 18/100\n",
      "548/548 [==============================] - 4s 7ms/step - loss: 0.3262\n",
      "Epoch 19/100\n",
      "548/548 [==============================] - 4s 7ms/step - loss: 0.3260\n",
      "Epoch 20/100\n",
      "548/548 [==============================] - 4s 7ms/step - loss: 0.3258\n",
      "Epoch 21/100\n",
      "548/548 [==============================] - 4s 7ms/step - loss: 0.3257\n",
      "Epoch 22/100\n",
      "548/548 [==============================] - 4s 7ms/step - loss: 0.3256\n",
      "Epoch 23/100\n",
      "548/548 [==============================] - 4s 7ms/step - loss: 0.3255\n",
      "Epoch 24/100\n",
      "548/548 [==============================] - 4s 7ms/step - loss: 0.3254\n",
      "Epoch 25/100\n",
      "548/548 [==============================] - 4s 7ms/step - loss: 0.3253\n",
      "Epoch 26/100\n",
      "548/548 [==============================] - 4s 7ms/step - loss: 0.3252\n",
      "Epoch 27/100\n",
      "548/548 [==============================] - 4s 7ms/step - loss: 0.3251\n",
      "Epoch 28/100\n",
      "548/548 [==============================] - 4s 7ms/step - loss: 0.3250\n",
      "Epoch 29/100\n",
      "548/548 [==============================] - 4s 7ms/step - loss: 0.3249\n",
      "Epoch 30/100\n",
      "548/548 [==============================] - 4s 7ms/step - loss: 0.3249\n",
      "Epoch 31/100\n",
      "548/548 [==============================] - 4s 7ms/step - loss: 0.3248\n",
      "Epoch 32/100\n",
      "548/548 [==============================] - 4s 7ms/step - loss: 0.3247\n",
      "Epoch 33/100\n",
      "548/548 [==============================] - 4s 7ms/step - loss: 0.3247\n",
      "Epoch 34/100\n",
      "548/548 [==============================] - 4s 7ms/step - loss: 0.3246\n",
      "Epoch 35/100\n",
      "548/548 [==============================] - 4s 7ms/step - loss: 0.3246\n",
      "Epoch 36/100\n",
      "548/548 [==============================] - 4s 7ms/step - loss: 0.3245\n",
      "Epoch 37/100\n",
      "548/548 [==============================] - 4s 7ms/step - loss: 0.3245\n",
      "Epoch 38/100\n",
      "548/548 [==============================] - 4s 7ms/step - loss: 0.3244\n",
      "Epoch 39/100\n",
      "548/548 [==============================] - 4s 7ms/step - loss: 0.3244\n",
      "Epoch 40/100\n",
      "548/548 [==============================] - 4s 7ms/step - loss: 0.3244\n",
      "Epoch 41/100\n",
      "548/548 [==============================] - 4s 7ms/step - loss: 0.3243\n",
      "Epoch 42/100\n",
      "548/548 [==============================] - 4s 7ms/step - loss: 0.3243\n",
      "Epoch 43/100\n",
      "548/548 [==============================] - 4s 7ms/step - loss: 0.3242\n",
      "Epoch 44/100\n",
      "548/548 [==============================] - 4s 7ms/step - loss: 0.3242\n",
      "Epoch 45/100\n",
      "548/548 [==============================] - 4s 7ms/step - loss: 0.3242\n",
      "Epoch 46/100\n",
      "548/548 [==============================] - 4s 7ms/step - loss: 0.3241\n",
      "Epoch 47/100\n",
      "548/548 [==============================] - 4s 7ms/step - loss: 0.3241\n",
      "Epoch 48/100\n",
      "548/548 [==============================] - 4s 7ms/step - loss: 0.3241\n",
      "Epoch 49/100\n",
      "548/548 [==============================] - 4s 7ms/step - loss: 0.3241\n",
      "Epoch 50/100\n",
      "548/548 [==============================] - 4s 7ms/step - loss: 0.3240\n",
      "Epoch 51/100\n",
      "548/548 [==============================] - 4s 7ms/step - loss: 0.3240\n",
      "Epoch 52/100\n",
      "548/548 [==============================] - 4s 7ms/step - loss: 0.3240\n",
      "Epoch 53/100\n",
      "548/548 [==============================] - 4s 7ms/step - loss: 0.3240\n",
      "Epoch 54/100\n",
      "548/548 [==============================] - 4s 7ms/step - loss: 0.3240\n",
      "Epoch 55/100\n",
      "548/548 [==============================] - 4s 7ms/step - loss: 0.3239\n",
      "Epoch 56/100\n",
      "548/548 [==============================] - 4s 7ms/step - loss: 0.3239\n",
      "Epoch 57/100\n",
      "548/548 [==============================] - 4s 7ms/step - loss: 0.3239\n",
      "Epoch 58/100\n",
      "548/548 [==============================] - 4s 7ms/step - loss: 0.3239\n",
      "Epoch 59/100\n",
      "548/548 [==============================] - 4s 7ms/step - loss: 0.3238\n",
      "Epoch 60/100\n",
      "548/548 [==============================] - 4s 7ms/step - loss: 0.3238\n",
      "Epoch 61/100\n",
      "548/548 [==============================] - 4s 7ms/step - loss: 0.3238\n",
      "Epoch 62/100\n",
      "548/548 [==============================] - 4s 7ms/step - loss: 0.3238\n",
      "Epoch 63/100\n",
      "548/548 [==============================] - 4s 7ms/step - loss: 0.3238\n",
      "Epoch 64/100\n",
      "548/548 [==============================] - 4s 7ms/step - loss: 0.3238\n",
      "Epoch 65/100\n",
      "548/548 [==============================] - 4s 7ms/step - loss: 0.3238\n",
      "Epoch 66/100\n",
      "548/548 [==============================] - 4s 7ms/step - loss: 0.3238\n",
      "Epoch 67/100\n",
      "548/548 [==============================] - 4s 7ms/step - loss: 0.3237\n",
      "Epoch 68/100\n",
      "548/548 [==============================] - 4s 7ms/step - loss: 0.3237\n",
      "Epoch 69/100\n",
      "548/548 [==============================] - 4s 7ms/step - loss: 0.3237\n",
      "Epoch 70/100\n",
      "548/548 [==============================] - 4s 7ms/step - loss: 0.3237\n",
      "Epoch 71/100\n",
      "548/548 [==============================] - 4s 7ms/step - loss: 0.3237\n",
      "Epoch 72/100\n",
      "548/548 [==============================] - 4s 7ms/step - loss: 0.3237\n",
      "Epoch 73/100\n",
      "548/548 [==============================] - 4s 7ms/step - loss: 0.3237\n",
      "Epoch 74/100\n",
      "548/548 [==============================] - 4s 7ms/step - loss: 0.3237\n",
      "Epoch 75/100\n",
      "548/548 [==============================] - 4s 7ms/step - loss: 0.3237\n",
      "Epoch 76/100\n",
      "548/548 [==============================] - 4s 7ms/step - loss: 0.3236\n",
      "Epoch 77/100\n",
      "548/548 [==============================] - 4s 7ms/step - loss: 0.3236\n",
      "Epoch 78/100\n",
      "548/548 [==============================] - 4s 7ms/step - loss: 0.3236\n",
      "Epoch 79/100\n",
      "548/548 [==============================] - 4s 7ms/step - loss: 0.3236\n",
      "Epoch 80/100\n",
      "548/548 [==============================] - 4s 7ms/step - loss: 0.3236\n",
      "Epoch 81/100\n",
      "548/548 [==============================] - 4s 7ms/step - loss: 0.3236\n",
      "Epoch 82/100\n",
      "548/548 [==============================] - 4s 7ms/step - loss: 0.3236\n",
      "Epoch 83/100\n",
      "548/548 [==============================] - 4s 7ms/step - loss: 0.3236\n",
      "Epoch 84/100\n",
      "548/548 [==============================] - 4s 7ms/step - loss: 0.3236\n",
      "Epoch 85/100\n",
      "548/548 [==============================] - 4s 7ms/step - loss: 0.3236\n",
      "Epoch 86/100\n",
      "548/548 [==============================] - 4s 7ms/step - loss: 0.3236\n",
      "Epoch 87/100\n",
      "548/548 [==============================] - 4s 7ms/step - loss: 0.3236\n",
      "Epoch 88/100\n",
      "548/548 [==============================] - 4s 7ms/step - loss: 0.3236\n",
      "Epoch 89/100\n",
      "548/548 [==============================] - 4s 7ms/step - loss: 0.3236\n",
      "Epoch 90/100\n",
      "548/548 [==============================] - 4s 7ms/step - loss: 0.3236\n",
      "Epoch 91/100\n",
      "548/548 [==============================] - 4s 7ms/step - loss: 0.3236\n",
      "Epoch 92/100\n",
      "548/548 [==============================] - 4s 7ms/step - loss: 0.3235\n",
      "Epoch 93/100\n",
      "548/548 [==============================] - 4s 7ms/step - loss: 0.3235\n",
      "Epoch 94/100\n",
      "548/548 [==============================] - 4s 7ms/step - loss: 0.3235\n",
      "Epoch 95/100\n",
      "548/548 [==============================] - 4s 7ms/step - loss: 0.3235\n",
      "Epoch 96/100\n",
      "548/548 [==============================] - 4s 7ms/step - loss: 0.3235\n",
      "Epoch 97/100\n",
      "548/548 [==============================] - 4s 7ms/step - loss: 0.3235\n",
      "Epoch 98/100\n",
      "548/548 [==============================] - 4s 7ms/step - loss: 0.3235\n",
      "Epoch 99/100\n",
      "548/548 [==============================] - 4s 7ms/step - loss: 0.3235\n",
      "Epoch 100/100\n",
      "548/548 [==============================] - 4s 7ms/step - loss: 0.3235\n"
     ]
    }
   ],
   "source": [
    "autoencoder = Autoencoder(latent_dim, shape)\n",
    "\n",
    "autoencoder.compile(optimizer='adam', loss=losses.MeanSquaredError())\n",
    "\n",
    "history = autoencoder.fit(train, train,\n",
    "              epochs=100,\n",
    "          shuffle=True)"
   ],
   "metadata": {
    "collapsed": false,
    "ExecuteTime": {
     "end_time": "2024-12-06T00:15:22.442294300Z",
     "start_time": "2024-12-06T00:08:55.637252600Z"
    }
   },
   "id": "f07d460024e1b750",
   "execution_count": 29
  },
  {
   "cell_type": "code",
   "outputs": [
    {
     "data": {
      "text/plain": "<matplotlib.legend.Legend at 0x24637535850>"
     },
     "execution_count": 30,
     "metadata": {},
     "output_type": "execute_result"
    },
    {
     "data": {
      "text/plain": "<Figure size 640x480 with 1 Axes>",
      "image/png": "[encoded data removed]"
     },
     "metadata": {},
     "output_type": "display_data"
    }
   ],
   "source": [
    "plt.plot(history.history[\"loss\"], label=\"Training Loss\")\n",
    "plt.legend()"
   ],
   "metadata": {
    "collapsed": false,
    "ExecuteTime": {
     "end_time": "2024-12-06T00:16:25.931490300Z",
     "start_time": "2024-12-06T00:16:25.778629800Z"
    }
   },
   "id": "2fdffd5167c695bb",
   "execution_count": 30
  },
  {
   "cell_type": "code",
   "outputs": [
    {
     "name": "stdout",
     "output_type": "stream",
     "text": [
      "Weights saved successfully.\n"
     ]
    }
   ],
   "source": [
    "autoencoder.save_weights(f'weights/IMERG_{latent_dim}_downsample.h5')\n",
    "print(\"Weights saved successfully.\")"
   ],
   "metadata": {
    "collapsed": false,
    "ExecuteTime": {
     "end_time": "2024-12-06T00:16:30.275429500Z",
     "start_time": "2024-12-06T00:16:30.226892400Z"
    }
   },
   "id": "4d8dce812eb7f4b2",
   "execution_count": 31
  },
  {
   "cell_type": "markdown",
   "source": [
    "## REOPENING THE MODEL WITH WEIGHTS"
   ],
   "metadata": {
    "collapsed": false
   },
   "id": "85d449ee70a05966"
  },
  {
   "cell_type": "code",
   "outputs": [
    {
     "ename": "ValueError",
     "evalue": "Unable to load weights saved in HDF5 format into a subclassed Model which has not created its variables yet. Call the Model first, then load the weights.",
     "output_type": "error",
     "traceback": [
      "\u001B[1;31m---------------------------------------------------------------------------\u001B[0m",
      "\u001B[1;31mValueError\u001B[0m                                Traceback (most recent call last)",
      "Cell \u001B[1;32mIn[32], line 2\u001B[0m\n\u001B[0;32m      1\u001B[0m autoencoder \u001B[38;5;241m=\u001B[39m Autoencoder(latent_dim, shape) \n\u001B[1;32m----> 2\u001B[0m \u001B[43mautoencoder\u001B[49m\u001B[38;5;241;43m.\u001B[39;49m\u001B[43mload_weights\u001B[49m\u001B[43m(\u001B[49m\u001B[38;5;124;43mf\u001B[39;49m\u001B[38;5;124;43m'\u001B[39;49m\u001B[38;5;124;43mweights/IMERG_\u001B[39;49m\u001B[38;5;132;43;01m{\u001B[39;49;00m\u001B[43mlatent_dim\u001B[49m\u001B[38;5;132;43;01m}\u001B[39;49;00m\u001B[38;5;124;43m_downsample.h5\u001B[39;49m\u001B[38;5;124;43m'\u001B[39;49m\u001B[43m)\u001B[49m\n",
      "File \u001B[1;32m~\\AppData\\Roaming\\Python\\Python39\\site-packages\\keras\\utils\\traceback_utils.py:70\u001B[0m, in \u001B[0;36mfilter_traceback.<locals>.error_handler\u001B[1;34m(*args, **kwargs)\u001B[0m\n\u001B[0;32m     67\u001B[0m     filtered_tb \u001B[38;5;241m=\u001B[39m _process_traceback_frames(e\u001B[38;5;241m.\u001B[39m__traceback__)\n\u001B[0;32m     68\u001B[0m     \u001B[38;5;66;03m# To get the full stack trace, call:\u001B[39;00m\n\u001B[0;32m     69\u001B[0m     \u001B[38;5;66;03m# `tf.debugging.disable_traceback_filtering()`\u001B[39;00m\n\u001B[1;32m---> 70\u001B[0m     \u001B[38;5;28;01mraise\u001B[39;00m e\u001B[38;5;241m.\u001B[39mwith_traceback(filtered_tb) \u001B[38;5;28;01mfrom\u001B[39;00m \u001B[38;5;28;01mNone\u001B[39;00m\n\u001B[0;32m     71\u001B[0m \u001B[38;5;28;01mfinally\u001B[39;00m:\n\u001B[0;32m     72\u001B[0m     \u001B[38;5;28;01mdel\u001B[39;00m filtered_tb\n",
      "File \u001B[1;32m~\\AppData\\Roaming\\Python\\Python39\\site-packages\\keras\\engine\\training.py:2925\u001B[0m, in \u001B[0;36mModel.load_weights\u001B[1;34m(self, filepath, by_name, skip_mismatch, options)\u001B[0m\n\u001B[0;32m   2920\u001B[0m     \u001B[38;5;28;01mraise\u001B[39;00m \u001B[38;5;167;01mImportError\u001B[39;00m(\n\u001B[0;32m   2921\u001B[0m         \u001B[38;5;124m\"\u001B[39m\u001B[38;5;124m`load_weights` requires h5py package when loading weights \u001B[39m\u001B[38;5;124m\"\u001B[39m\n\u001B[0;32m   2922\u001B[0m         \u001B[38;5;124m\"\u001B[39m\u001B[38;5;124mfrom HDF5. Try installing h5py.\u001B[39m\u001B[38;5;124m\"\u001B[39m\n\u001B[0;32m   2923\u001B[0m     )\n\u001B[0;32m   2924\u001B[0m \u001B[38;5;28;01mif\u001B[39;00m \u001B[38;5;129;01mnot\u001B[39;00m \u001B[38;5;28mself\u001B[39m\u001B[38;5;241m.\u001B[39m_is_graph_network \u001B[38;5;129;01mand\u001B[39;00m \u001B[38;5;129;01mnot\u001B[39;00m \u001B[38;5;28mself\u001B[39m\u001B[38;5;241m.\u001B[39mbuilt:\n\u001B[1;32m-> 2925\u001B[0m     \u001B[38;5;28;01mraise\u001B[39;00m \u001B[38;5;167;01mValueError\u001B[39;00m(\n\u001B[0;32m   2926\u001B[0m         \u001B[38;5;124m\"\u001B[39m\u001B[38;5;124mUnable to load weights saved in HDF5 format into a \u001B[39m\u001B[38;5;124m\"\u001B[39m\n\u001B[0;32m   2927\u001B[0m         \u001B[38;5;124m\"\u001B[39m\u001B[38;5;124msubclassed Model which has not created its variables yet. \u001B[39m\u001B[38;5;124m\"\u001B[39m\n\u001B[0;32m   2928\u001B[0m         \u001B[38;5;124m\"\u001B[39m\u001B[38;5;124mCall the Model first, then load the weights.\u001B[39m\u001B[38;5;124m\"\u001B[39m\n\u001B[0;32m   2929\u001B[0m     )\n\u001B[0;32m   2930\u001B[0m \u001B[38;5;28mself\u001B[39m\u001B[38;5;241m.\u001B[39m_assert_weights_created()\n\u001B[0;32m   2931\u001B[0m \u001B[38;5;28;01mwith\u001B[39;00m h5py\u001B[38;5;241m.\u001B[39mFile(filepath, \u001B[38;5;124m\"\u001B[39m\u001B[38;5;124mr\u001B[39m\u001B[38;5;124m\"\u001B[39m) \u001B[38;5;28;01mas\u001B[39;00m f:\n",
      "\u001B[1;31mValueError\u001B[0m: Unable to load weights saved in HDF5 format into a subclassed Model which has not created its variables yet. Call the Model first, then load the weights."
     ]
    }
   ],
   "source": [
    "autoencoder = Autoencoder(latent_dim, shape) \n",
    "autoencoder.load_weights(f'weights/IMERG_{latent_dim}_downsample.h5')"
   ],
   "metadata": {
    "collapsed": false,
    "ExecuteTime": {
     "end_time": "2024-12-06T00:16:33.723157700Z",
     "start_time": "2024-12-06T00:16:32.952444300Z"
    }
   },
   "id": "d2fe5595916f4ee4",
   "execution_count": 32
  },
  {
   "cell_type": "code",
   "outputs": [],
   "source": [],
   "metadata": {
    "collapsed": false
   },
   "id": "ce73e6d72ebf2bb8"
  }
 ],
 "metadata": {
  "kernelspec": {
   "display_name": "Python 3",
   "language": "python",
   "name": "python3"
  },
  "language_info": {
   "codemirror_mode": {
    "name": "ipython",
    "version": 2
   },
   "file_extension": ".py",
   "mimetype": "text/x-python",
   "name": "python",
   "nbconvert_exporter": "python",
   "pygments_lexer": "ipython2",
   "version": "2.7.6"
  }
 },
 "nbformat": 4,
 "nbformat_minor": 5
}
