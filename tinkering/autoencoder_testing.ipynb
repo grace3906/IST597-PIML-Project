{
 "cells": [
  {
   "cell_type": "code",
   "outputs": [],
   "source": [
    "import matplotlib.pyplot as plt\n",
    "import netCDF4\n",
    "import os\n",
    "import tensorflow as tf\n",
    "\n",
    "from sklearn.model_selection import train_test_split\n",
    "from tensorflow.keras import layers, losses\n",
    "from tensorflow.keras.models import Model"
   ],
   "metadata": {
    "collapsed": false,
    "ExecuteTime": {
     "end_time": "2024-11-22T19:52:14.841399Z",
     "start_time": "2024-11-22T19:52:14.792988Z"
    }
   },
   "id": "2a7e460776549b7d",
   "execution_count": 61
  },
  {
   "cell_type": "code",
   "outputs": [],
   "source": [
    "CMROOT = '/Users/axt5780/Library/CloudStorage/OneDrive-ThePennsylvaniaStateUniversity/PIML_project/IMERG_vectors/'\n",
    "FILSTR = 'IMERG_vec_201801.nc'\n",
    "\n",
    "nc = netCDF4.Dataset(os.path.join(CMROOT, FILSTR)) # reading the nc file and creating Dataset"
   ],
   "metadata": {
    "collapsed": false,
    "ExecuteTime": {
     "end_time": "2024-11-22T19:52:15.783981Z",
     "start_time": "2024-11-22T19:52:15.708222Z"
    }
   },
   "id": "2ca59966fb7576c1",
   "execution_count": 62
  },
  {
   "cell_type": "code",
   "outputs": [
    {
     "data": {
      "text/plain": "{'time': <class 'netCDF4.Variable'>\n int64 time(time)\n     units: minutes since 2018-01-01 00:00:00.000000\n     calendar: julian\n unlimited dimensions: \n current shape = (1488,)\n filling on, default _FillValue of -9223372036854775806 used,\n 'idx': <class 'netCDF4.Variable'>\n int64 idx(idx)\n unlimited dimensions: \n current shape = (39125,)\n filling on, default _FillValue of -9223372036854775806 used,\n 'pmmhr': <class 'netCDF4.Variable'>\n float32 pmmhr(time, idx)\n     _FillValue: nan\n unlimited dimensions: \n current shape = (1488, 39125)\n filling on,\n 'lat': <class 'netCDF4.Variable'>\n float32 lat(time, idx)\n     _FillValue: nan\n unlimited dimensions: \n current shape = (1488, 39125)\n filling on,\n 'lon': <class 'netCDF4.Variable'>\n float32 lon(time, idx)\n     _FillValue: nan\n unlimited dimensions: \n current shape = (1488, 39125)\n filling on}"
     },
     "execution_count": 63,
     "metadata": {},
     "output_type": "execute_result"
    }
   ],
   "source": [
    "nc.variables"
   ],
   "metadata": {
    "collapsed": false,
    "ExecuteTime": {
     "end_time": "2024-11-22T19:52:16.243760Z",
     "start_time": "2024-11-22T19:52:15.983198Z"
    }
   },
   "id": "d9cc4e1855844be3",
   "execution_count": 63
  },
  {
   "cell_type": "code",
   "outputs": [],
   "source": [
    "train, test = train_test_split(nc.variables['pmmhr'], test_size=0.2)"
   ],
   "metadata": {
    "collapsed": false,
    "ExecuteTime": {
     "end_time": "2024-11-22T19:52:20.873659Z",
     "start_time": "2024-11-22T19:52:18.818027Z"
    }
   },
   "id": "ec30bb03609ccd9d",
   "execution_count": 64
  },
  {
   "cell_type": "code",
   "outputs": [],
   "source": [
    "class Autoencoder(Model):\n",
    "  def __init__(self, latent_dim, shape):\n",
    "    super(Autoencoder, self).__init__()\n",
    "    self.latent_dim = latent_dim\n",
    "    self.shape = shape\n",
    "    self.encoder = tf.keras.Sequential([\n",
    "      layers.Flatten(),\n",
    "      layers.Dense(latent_dim, activation='relu'),\n",
    "    ])\n",
    "    self.decoder = tf.keras.Sequential([\n",
    "      layers.Dense(tf.math.reduce_prod(shape).numpy(), activation='sigmoid'),\n",
    "      layers.Reshape(shape)\n",
    "    ])\n",
    "\n",
    "  def call(self, x):\n",
    "    encoded = self.encoder(x)\n",
    "    decoded = self.decoder(encoded)\n",
    "    return decoded"
   ],
   "metadata": {
    "collapsed": false,
    "ExecuteTime": {
     "end_time": "2024-11-22T19:52:21.719738Z",
     "start_time": "2024-11-22T19:52:21.677740Z"
    }
   },
   "id": "186531811dab7bbd",
   "execution_count": 65
  },
  {
   "cell_type": "code",
   "outputs": [
    {
     "name": "stdout",
     "output_type": "stream",
     "text": [
      "Epoch 1/20\n",
      "\u001B[1m38/38\u001B[0m \u001B[32m━━━━━━━━━━━━━━━━━━━━\u001B[0m\u001B[37m\u001B[0m \u001B[1m7s\u001B[0m 146ms/step - loss: 0.2109 - val_loss: 0.0597\n",
      "Epoch 2/20\n",
      "\u001B[1m38/38\u001B[0m \u001B[32m━━━━━━━━━━━━━━━━━━━━\u001B[0m\u001B[37m\u001B[0m \u001B[1m3s\u001B[0m 89ms/step - loss: 0.0442 - val_loss: 0.0536\n",
      "Epoch 3/20\n",
      "\u001B[1m38/38\u001B[0m \u001B[32m━━━━━━━━━━━━━━━━━━━━\u001B[0m\u001B[37m\u001B[0m \u001B[1m3s\u001B[0m 90ms/step - loss: 0.0386 - val_loss: 0.0527\n",
      "Epoch 4/20\n",
      "\u001B[1m38/38\u001B[0m \u001B[32m━━━━━━━━━━━━━━━━━━━━\u001B[0m\u001B[37m\u001B[0m \u001B[1m5s\u001B[0m 83ms/step - loss: 0.0378 - val_loss: 0.0524\n",
      "Epoch 5/20\n",
      "\u001B[1m38/38\u001B[0m \u001B[32m━━━━━━━━━━━━━━━━━━━━\u001B[0m\u001B[37m\u001B[0m \u001B[1m3s\u001B[0m 85ms/step - loss: 0.0370 - val_loss: 0.0522\n",
      "Epoch 6/20\n",
      "\u001B[1m38/38\u001B[0m \u001B[32m━━━━━━━━━━━━━━━━━━━━\u001B[0m\u001B[37m\u001B[0m \u001B[1m4s\u001B[0m 111ms/step - loss: 0.0410 - val_loss: 0.0521\n",
      "Epoch 7/20\n",
      "\u001B[1m38/38\u001B[0m \u001B[32m━━━━━━━━━━━━━━━━━━━━\u001B[0m\u001B[37m\u001B[0m \u001B[1m4s\u001B[0m 102ms/step - loss: 0.0426 - val_loss: 0.0521\n",
      "Epoch 8/20\n",
      "\u001B[1m38/38\u001B[0m \u001B[32m━━━━━━━━━━━━━━━━━━━━\u001B[0m\u001B[37m\u001B[0m \u001B[1m4s\u001B[0m 113ms/step - loss: 0.0374 - val_loss: 0.0520\n",
      "Epoch 9/20\n",
      "\u001B[1m38/38\u001B[0m \u001B[32m━━━━━━━━━━━━━━━━━━━━\u001B[0m\u001B[37m\u001B[0m \u001B[1m4s\u001B[0m 106ms/step - loss: 0.0361 - val_loss: 0.0520\n",
      "Epoch 10/20\n",
      "\u001B[1m38/38\u001B[0m \u001B[32m━━━━━━━━━━━━━━━━━━━━\u001B[0m\u001B[37m\u001B[0m \u001B[1m6s\u001B[0m 146ms/step - loss: 0.0360 - val_loss: 0.0519\n",
      "Epoch 11/20\n",
      "\u001B[1m38/38\u001B[0m \u001B[32m━━━━━━━━━━━━━━━━━━━━\u001B[0m\u001B[37m\u001B[0m \u001B[1m5s\u001B[0m 125ms/step - loss: 0.0369 - val_loss: 0.0519\n",
      "Epoch 12/20\n",
      "\u001B[1m38/38\u001B[0m \u001B[32m━━━━━━━━━━━━━━━━━━━━\u001B[0m\u001B[37m\u001B[0m \u001B[1m5s\u001B[0m 126ms/step - loss: 0.0370 - val_loss: 0.0519\n",
      "Epoch 13/20\n",
      "\u001B[1m38/38\u001B[0m \u001B[32m━━━━━━━━━━━━━━━━━━━━\u001B[0m\u001B[37m\u001B[0m \u001B[1m5s\u001B[0m 122ms/step - loss: 0.0420 - val_loss: 0.0519\n",
      "Epoch 14/20\n",
      "\u001B[1m38/38\u001B[0m \u001B[32m━━━━━━━━━━━━━━━━━━━━\u001B[0m\u001B[37m\u001B[0m \u001B[1m5s\u001B[0m 127ms/step - loss: 0.0421 - val_loss: 0.0519\n",
      "Epoch 15/20\n",
      "\u001B[1m38/38\u001B[0m \u001B[32m━━━━━━━━━━━━━━━━━━━━\u001B[0m\u001B[37m\u001B[0m \u001B[1m5s\u001B[0m 120ms/step - loss: 0.0414 - val_loss: 0.0518\n",
      "Epoch 16/20\n",
      "\u001B[1m38/38\u001B[0m \u001B[32m━━━━━━━━━━━━━━━━━━━━\u001B[0m\u001B[37m\u001B[0m \u001B[1m5s\u001B[0m 123ms/step - loss: 0.0360 - val_loss: 0.0518\n",
      "Epoch 17/20\n",
      "\u001B[1m38/38\u001B[0m \u001B[32m━━━━━━━━━━━━━━━━━━━━\u001B[0m\u001B[37m\u001B[0m \u001B[1m5s\u001B[0m 124ms/step - loss: 0.0414 - val_loss: 0.0518\n",
      "Epoch 18/20\n",
      "\u001B[1m38/38\u001B[0m \u001B[32m━━━━━━━━━━━━━━━━━━━━\u001B[0m\u001B[37m\u001B[0m \u001B[1m5s\u001B[0m 120ms/step - loss: 0.0364 - val_loss: 0.0518\n",
      "Epoch 19/20\n",
      "\u001B[1m38/38\u001B[0m \u001B[32m━━━━━━━━━━━━━━━━━━━━\u001B[0m\u001B[37m\u001B[0m \u001B[1m5s\u001B[0m 121ms/step - loss: 0.0361 - val_loss: 0.0518\n",
      "Epoch 20/20\n",
      "\u001B[1m38/38\u001B[0m \u001B[32m━━━━━━━━━━━━━━━━━━━━\u001B[0m\u001B[37m\u001B[0m \u001B[1m5s\u001B[0m 118ms/step - loss: 0.0351 - val_loss: 0.0518\n"
     ]
    }
   ],
   "source": [
    "shape = test.shape[1:]\n",
    "latent_dim = 64\n",
    "autoencoder = Autoencoder(latent_dim, shape)\n",
    "\n",
    "autoencoder.compile(optimizer='adam', loss=losses.MeanSquaredError())\n",
    "\n",
    "history = autoencoder.fit(train, train,\n",
    "          epochs=20,\n",
    "          validation_data=(test, test),\n",
    "          shuffle=True)"
   ],
   "metadata": {
    "collapsed": false,
    "ExecuteTime": {
     "end_time": "2024-11-22T19:53:57.586700Z",
     "start_time": "2024-11-22T19:52:24.042147Z"
    }
   },
   "id": "e56a386fa6a9b21f",
   "execution_count": 66
  },
  {
   "cell_type": "code",
   "outputs": [
    {
     "data": {
      "text/plain": "<matplotlib.legend.Legend at 0x1373777f0>"
     },
     "execution_count": 67,
     "metadata": {},
     "output_type": "execute_result"
    },
    {
     "data": {
      "text/plain": "<Figure size 640x480 with 1 Axes>",
      "image/png": "[encoded data removed]"
     },
     "metadata": {},
     "output_type": "display_data"
    }
   ],
   "source": [
    "plt.plot(history.history[\"loss\"], label=\"Training Loss\")\n",
    "plt.plot(history.history[\"val_loss\"], label=\"Validation Loss\")\n",
    "plt.legend()"
   ],
   "metadata": {
    "collapsed": false,
    "ExecuteTime": {
     "end_time": "2024-11-22T19:54:02.084962Z",
     "start_time": "2024-11-22T19:54:00.575105Z"
    }
   },
   "id": "2fdffd5167c695bb",
   "execution_count": 67
  },
  {
   "cell_type": "code",
   "outputs": [],
   "source": [
    "encoded = autoencoder.encoder(test).numpy()"
   ],
   "metadata": {
    "collapsed": false,
    "ExecuteTime": {
     "end_time": "2024-11-22T19:54:32.514091Z",
     "start_time": "2024-11-22T19:54:32.453864Z"
    }
   },
   "id": "d0af5ae564067aab",
   "execution_count": 68
  },
  {
   "cell_type": "code",
   "outputs": [
    {
     "data": {
      "text/plain": "(298, 64)"
     },
     "execution_count": 69,
     "metadata": {},
     "output_type": "execute_result"
    }
   ],
   "source": [
    "encoded.shape"
   ],
   "metadata": {
    "collapsed": false,
    "ExecuteTime": {
     "end_time": "2024-11-22T19:54:33.088887Z",
     "start_time": "2024-11-22T19:54:33.019036Z"
    }
   },
   "id": "7ec43867dfda3d00",
   "execution_count": 69
  },
  {
   "cell_type": "code",
   "outputs": [],
   "source": [],
   "metadata": {
    "collapsed": false
   },
   "id": "4d8dce812eb7f4b2"
  }
 ],
 "metadata": {
  "kernelspec": {
   "display_name": "Python 3",
   "language": "python",
   "name": "python3"
  },
  "language_info": {
   "codemirror_mode": {
    "name": "ipython",
    "version": 2
   },
   "file_extension": ".py",
   "mimetype": "text/x-python",
   "name": "python",
   "nbconvert_exporter": "python",
   "pygments_lexer": "ipython2",
   "version": "2.7.6"
  }
 },
 "nbformat": 4,
 "nbformat_minor": 5
}
