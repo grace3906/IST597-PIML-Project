{
 "cells": [
  {
   "cell_type": "code",
   "execution_count": 8,
   "id": "2a7e460776549b7d",
   "metadata": {
    "ExecuteTime": {
     "end_time": "2024-12-05T23:49:13.259813400Z",
     "start_time": "2024-12-05T23:49:13.241245300Z"
    },
    "collapsed": false,
    "jupyter": {
     "outputs_hidden": false
    }
   },
   "outputs": [],
   "source": [
    "import matplotlib.pyplot as plt\n",
    "import netCDF4\n",
    "import os, glob\n",
    "import numpy as np\n",
    "from scipy.interpolate import griddata\n",
    "import h5py\n",
    "\n",
    "import tensorflow as tf\n",
    "from tensorflow.keras import layers, losses\n",
    "from tensorflow.keras.models import Model"
   ]
  },
  {
   "cell_type": "code",
   "execution_count": 9,
   "id": "c2591876707bf1db",
   "metadata": {
    "ExecuteTime": {
     "end_time": "2024-12-05T23:49:23.853690300Z",
     "start_time": "2024-12-05T23:49:17.207352500Z"
    },
    "collapsed": false,
    "jupyter": {
     "outputs_hidden": false
    }
   },
   "outputs": [
    {
     "name": "stdout",
     "output_type": "stream",
     "text": [
      "Combined data shape: (17520, 39125)\n"
     ]
    }
   ],
   "source": [
    "CMROOT = r\"C:\\Users\\axt5780\\OneDrive - The Pennsylvania State University\\PIML_project\\IMERG_vectors\"\n",
    "CMROOT = '/glade/work/jpan/IMERG_vecs/'\n",
    "nc_files = glob.glob(os.path.join(CMROOT, \"*.nc\"))\n",
    "\n",
    "all_data = []\n",
    "for nc_file in nc_files:\n",
    "    channel_vec = netCDF4.Dataset(nc_file)\n",
    "    data = channel_vec['pmmhr'][:, :]\n",
    "    \n",
    "    if np.isnan(data).any():\n",
    "        valid_mask = ~np.isnan(data)\n",
    "        nan_mask = np.isnan(data)  \n",
    "        \n",
    "        x, y = np.meshgrid(np.arange(data.shape[1]), np.arange(data.shape[0]))\n",
    "      \n",
    "        interpolated_data = griddata(\n",
    "              points=(x[valid_mask], y[valid_mask]),\n",
    "              values=data[valid_mask],\n",
    "              xi=(x[nan_mask], y[nan_mask]),\n",
    "              method='linear'\n",
    "        )\n",
    "        \n",
    "        data[nan_mask] = interpolated_data\n",
    "        \n",
    "    all_data.append(data)\n",
    "    channel_vec.close()\n",
    "    \n",
    "train = np.concatenate(all_data, axis=0)\n",
    "\n",
    "print(\"Combined data shape:\", train.shape)"
   ]
  },
  {
   "cell_type": "code",
   "execution_count": 10,
   "id": "186531811dab7bbd",
   "metadata": {
    "ExecuteTime": {
     "end_time": "2024-12-05T23:49:24.768347200Z",
     "start_time": "2024-12-05T23:49:24.750429400Z"
    },
    "collapsed": false,
    "jupyter": {
     "outputs_hidden": false
    }
   },
   "outputs": [],
   "source": [
    "class Autoencoder(Model):\n",
    "  def __init__(self, latent_dim, shape):\n",
    "    super(Autoencoder, self).__init__()\n",
    "    self.latent_dim = latent_dim\n",
    "    self.shape = shape\n",
    "    self.encoder = tf.keras.Sequential([\n",
    "      layers.Flatten(),\n",
    "      layers.Dense(latent_dim, activation='relu'),\n",
    "    ])\n",
    "    self.decoder = tf.keras.Sequential([\n",
    "      layers.Dense(tf.math.reduce_prod(shape).numpy(), activation='sigmoid'),\n",
    "      layers.Reshape(shape)\n",
    "    ])\n",
    "\n",
    "  def call(self, x):\n",
    "    encoded = self.encoder(x)\n",
    "    decoded = self.decoder(encoded)\n",
    "    return decoded"
   ]
  },
  {
   "cell_type": "code",
   "execution_count": 11,
   "id": "e56a386fa6a9b21f",
   "metadata": {
    "ExecuteTime": {
     "end_time": "2024-12-06T00:08:51.947894600Z",
     "start_time": "2024-12-06T00:08:51.937531900Z"
    },
    "collapsed": false,
    "jupyter": {
     "outputs_hidden": false
    }
   },
   "outputs": [],
   "source": [
    "shape = train.shape[1:]\n",
    "latent_dim = 64"
   ]
  },
  {
   "cell_type": "code",
   "execution_count": 14,
   "id": "f07d460024e1b750",
   "metadata": {
    "ExecuteTime": {
     "end_time": "2024-12-06T00:15:22.442294300Z",
     "start_time": "2024-12-06T00:08:55.637252600Z"
    },
    "collapsed": false,
    "jupyter": {
     "outputs_hidden": false
    }
   },
   "outputs": [
    {
     "name": "stdout",
     "output_type": "stream",
     "text": [
      "Epoch 1/5\n",
      "\u001b[1m548/548\u001b[0m \u001b[32m━━━━━━━━━━━━━━━━━━━━\u001b[0m\u001b[37m\u001b[0m \u001b[1m38s\u001b[0m 68ms/step - loss: 0.3940\n",
      "Epoch 2/5\n",
      "\u001b[1m548/548\u001b[0m \u001b[32m━━━━━━━━━━━━━━━━━━━━\u001b[0m\u001b[37m\u001b[0m \u001b[1m39s\u001b[0m 64ms/step - loss: 0.3401\n",
      "Epoch 3/5\n",
      "\u001b[1m548/548\u001b[0m \u001b[32m━━━━━━━━━━━━━━━━━━━━\u001b[0m\u001b[37m\u001b[0m \u001b[1m35s\u001b[0m 64ms/step - loss: 0.3360\n",
      "Epoch 4/5\n",
      "\u001b[1m548/548\u001b[0m \u001b[32m━━━━━━━━━━━━━━━━━━━━\u001b[0m\u001b[37m\u001b[0m \u001b[1m44s\u001b[0m 70ms/step - loss: 0.3326\n",
      "Epoch 5/5\n",
      "\u001b[1m548/548\u001b[0m \u001b[32m━━━━━━━━━━━━━━━━━━━━\u001b[0m\u001b[37m\u001b[0m \u001b[1m37s\u001b[0m 67ms/step - loss: 0.3298\n"
     ]
    }
   ],
   "source": [
    "autoencoder = Autoencoder(latent_dim, shape)\n",
    "\n",
    "autoencoder.compile(optimizer='adam', loss=losses.MeanSquaredError())\n",
    "\n",
    "history = autoencoder.fit(train, train,\n",
    "              epochs=5,\n",
    "          shuffle=True)"
   ]
  },
  {
   "cell_type": "code",
   "execution_count": 16,
   "id": "2fdffd5167c695bb",
   "metadata": {
    "ExecuteTime": {
     "end_time": "2024-12-06T00:16:25.931490300Z",
     "start_time": "2024-12-06T00:16:25.778629800Z"
    },
    "collapsed": false,
    "jupyter": {
     "outputs_hidden": false
    }
   },
   "outputs": [
    {
     "data": {
      "text/plain": [
       "<matplotlib.legend.Legend at 0x15384f79b890>"
      ]
     },
     "execution_count": 16,
     "metadata": {},
     "output_type": "execute_result"
    },
    {
     "data": {
      "image/png": "[encoded data removed]",
      "text/plain": [
       "<Figure size 640x480 with 1 Axes>"
      ]
     },
     "metadata": {},
     "output_type": "display_data"
    }
   ],
   "source": [
    "plt.plot(history.history[\"loss\"], label=\"Training Loss\")\n",
    "plt.legend()"
   ]
  },
  {
   "cell_type": "code",
   "execution_count": 19,
   "id": "4d8dce812eb7f4b2",
   "metadata": {
    "ExecuteTime": {
     "end_time": "2024-12-06T00:16:30.275429500Z",
     "start_time": "2024-12-06T00:16:30.226892400Z"
    },
    "collapsed": false,
    "jupyter": {
     "outputs_hidden": false
    }
   },
   "outputs": [
    {
     "name": "stdout",
     "output_type": "stream",
     "text": [
      "Weights saved successfully.\n"
     ]
    }
   ],
   "source": [
    "autoencoder.save_weights(f'weights/IMERG_{latent_dim}_downsample.weights.h5')\n",
    "print(\"Weights saved successfully.\")"
   ]
  },
  {
   "cell_type": "markdown",
   "id": "85d449ee70a05966",
   "metadata": {
    "collapsed": false,
    "jupyter": {
     "outputs_hidden": false
    }
   },
   "source": [
    "## REOPENING THE MODEL WITH WEIGHTS"
   ]
  },
  {
   "cell_type": "code",
   "execution_count": 31,
   "id": "d2fe5595916f4ee4",
   "metadata": {
    "ExecuteTime": {
     "end_time": "2024-12-06T00:16:33.723157700Z",
     "start_time": "2024-12-06T00:16:32.952444300Z"
    },
    "collapsed": false,
    "jupyter": {
     "outputs_hidden": false
    }
   },
   "outputs": [
    {
     "name": "stdout",
     "output_type": "stream",
     "text": [
      "\u001b[1m548/548\u001b[0m \u001b[32m━━━━━━━━━━━━━━━━━━━━\u001b[0m\u001b[37m\u001b[0m \u001b[1m16s\u001b[0m 27ms/step\n"
     ]
    }
   ],
   "source": [
    "ae1 = Autoencoder(latent_dim, shape) \n",
    "ae1.predict(train)\n",
    "ae1.load_weights(f'weights/IMERG_{latent_dim}_downsample.weights.h5')"
   ]
  },
  {
   "cell_type": "code",
   "execution_count": 34,
   "id": "73048822-f7d4-42a3-9fe1-9adea0a17c6c",
   "metadata": {},
   "outputs": [
    {
     "data": {
      "text/plain": [
       "[<tf.Tensor: shape=(39125, 64), dtype=float32, numpy=\n",
       " array([[0., 0., 0., ..., 0., 0., 0.],\n",
       "        [0., 0., 0., ..., 0., 0., 0.],\n",
       "        [0., 0., 0., ..., 0., 0., 0.],\n",
       "        ...,\n",
       "        [0., 0., 0., ..., 0., 0., 0.],\n",
       "        [0., 0., 0., ..., 0., 0., 0.],\n",
       "        [0., 0., 0., ..., 0., 0., 0.]], dtype=float32)>,\n",
       " <tf.Tensor: shape=(64,), dtype=float32, numpy=\n",
       " array([0., 0., 0., 0., 0., 0., 0., 0., 0., 0., 0., 0., 0., 0., 0., 0., 0.,\n",
       "        0., 0., 0., 0., 0., 0., 0., 0., 0., 0., 0., 0., 0., 0., 0., 0., 0.,\n",
       "        0., 0., 0., 0., 0., 0., 0., 0., 0., 0., 0., 0., 0., 0., 0., 0., 0.,\n",
       "        0., 0., 0., 0., 0., 0., 0., 0., 0., 0., 0., 0., 0.], dtype=float32)>,\n",
       " <tf.Tensor: shape=(64, 39125), dtype=float32, numpy=\n",
       " array([[0., 0., 0., ..., 0., 0., 0.],\n",
       "        [0., 0., 0., ..., 0., 0., 0.],\n",
       "        [0., 0., 0., ..., 0., 0., 0.],\n",
       "        ...,\n",
       "        [0., 0., 0., ..., 0., 0., 0.],\n",
       "        [0., 0., 0., ..., 0., 0., 0.],\n",
       "        [0., 0., 0., ..., 0., 0., 0.]], dtype=float32)>,\n",
       " <tf.Tensor: shape=(39125,), dtype=float32, numpy=array([0., 0., 0., ..., 0., 0., 0.], dtype=float32)>]"
      ]
     },
     "execution_count": 34,
     "metadata": {},
     "output_type": "execute_result"
    }
   ],
   "source": [
    "[ae1.weights[ii] - autoencoder.weights[ii] for ii in range(len(ae1.weights))]"
   ]
  },
  {
   "cell_type": "markdown",
   "id": "d4fcf05e-9074-4f79-b0b1-410ada761ed0",
   "metadata": {},
   "source": [
    "#### Loaded weights of the new model match the weights of the original model"
   ]
  },
  {
   "cell_type": "markdown",
   "id": "33ea3a8d-d386-4ae4-95f8-791d7d02a4de",
   "metadata": {},
   "source": [
    "# Check whether the distribution of encoded data matches original data"
   ]
  },
  {
   "cell_type": "code",
   "execution_count": null,
   "id": "0105a003-0d3c-48bd-9221-7d36e948a0d9",
   "metadata": {},
   "outputs": [],
   "source": [
    "plt.hist(train[::1000, :])"
   ]
  },
  {
   "cell_type": "code",
   "execution_count": null,
   "id": "09841a49-4267-427e-8343-1ebd56fe0212",
   "metadata": {},
   "outputs": [],
   "source": [
    "pred = ae1.predict(train[::1000])\n",
    "plt.hist(pred)"
   ]
  },
  {
   "cell_type": "code",
   "execution_count": null,
   "id": "ccf7c2eb-47d5-48fc-9f98-72e42b339b62",
   "metadata": {},
   "outputs": [],
   "source": []
  }
 ],
 "metadata": {
  "kernelspec": {
   "display_name": "Python [conda env:miniconda3-IST597tf]",
   "language": "python",
   "name": "conda-env-miniconda3-IST597tf-py"
  },
  "language_info": {
   "codemirror_mode": {
    "name": "ipython",
    "version": 3
   },
   "file_extension": ".py",
   "mimetype": "text/x-python",
   "name": "python",
   "nbconvert_exporter": "python",
   "pygments_lexer": "ipython3",
   "version": "3.11.11"
  }
 },
 "nbformat": 4,
 "nbformat_minor": 5
}
