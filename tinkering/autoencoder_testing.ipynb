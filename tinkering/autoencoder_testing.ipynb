{
 "cells": [
  {
   "cell_type": "code",
   "outputs": [],
   "source": [
    "import netCDF4\n",
    "import os\n",
    "import tensorflow as tf\n",
    "\n",
    "from sklearn.model_selection import train_test_split\n",
    "from tensorflow.keras import layers, losses\n",
    "from tensorflow.keras.models import Model"
   ],
   "metadata": {
    "collapsed": false,
    "ExecuteTime": {
     "end_time": "2024-11-22T19:25:13.853706Z",
     "start_time": "2024-11-22T19:25:13.564137Z"
    }
   },
   "id": "2a7e460776549b7d",
   "execution_count": 44
  },
  {
   "cell_type": "code",
   "outputs": [],
   "source": [
    "CMROOT = '/Users/axt5780/Library/CloudStorage/OneDrive-ThePennsylvaniaStateUniversity/PIML_project/IMERG_vectors/'\n",
    "FILSTR = 'IMERG_vec_201801.nc'\n",
    "\n",
    "nc = netCDF4.Dataset(os.path.join(CMROOT, FILSTR)) # reading the nc file and creating Dataset"
   ],
   "metadata": {
    "collapsed": false
   },
   "id": "2ca59966fb7576c1"
  },
  {
   "cell_type": "code",
   "outputs": [
    {
     "data": {
      "text/plain": "{'time': <class 'netCDF4.Variable'>\n int64 time(time)\n     units: minutes since 2018-01-01 00:00:00.000000\n     calendar: julian\n unlimited dimensions: \n current shape = (1488,)\n filling on, default _FillValue of -9223372036854775806 used,\n 'idx': <class 'netCDF4.Variable'>\n int64 idx(idx)\n unlimited dimensions: \n current shape = (39125,)\n filling on, default _FillValue of -9223372036854775806 used,\n 'pmmhr': <class 'netCDF4.Variable'>\n float32 pmmhr(time, idx)\n     _FillValue: nan\n unlimited dimensions: \n current shape = (1488, 39125)\n filling on,\n 'lat': <class 'netCDF4.Variable'>\n float32 lat(time, idx)\n     _FillValue: nan\n unlimited dimensions: \n current shape = (1488, 39125)\n filling on,\n 'lon': <class 'netCDF4.Variable'>\n float32 lon(time, idx)\n     _FillValue: nan\n unlimited dimensions: \n current shape = (1488, 39125)\n filling on}"
     },
     "execution_count": 36,
     "metadata": {},
     "output_type": "execute_result"
    }
   ],
   "source": [
    "nc.variables"
   ],
   "metadata": {
    "collapsed": false,
    "ExecuteTime": {
     "end_time": "2024-11-22T19:18:12.750227Z",
     "start_time": "2024-11-22T19:18:12.718384Z"
    }
   },
   "id": "d9cc4e1855844be3",
   "execution_count": 36
  },
  {
   "cell_type": "code",
   "outputs": [],
   "source": [
    "t, d = nc.variables['pmmhr'].shape"
   ],
   "metadata": {
    "collapsed": false,
    "ExecuteTime": {
     "end_time": "2024-11-22T19:11:14.067802Z",
     "start_time": "2024-11-22T19:11:14.062844Z"
    }
   },
   "id": "f448dd42a90c6e61",
   "execution_count": 28
  },
  {
   "cell_type": "code",
   "outputs": [],
   "source": [
    "train, test = train_test_split(nc.variables['pmmhr'], test_size=0.2)"
   ],
   "metadata": {
    "collapsed": false,
    "ExecuteTime": {
     "end_time": "2024-11-22T19:21:02.420597Z",
     "start_time": "2024-11-22T19:21:01.023404Z"
    }
   },
   "id": "ec30bb03609ccd9d",
   "execution_count": 39
  },
  {
   "cell_type": "code",
   "outputs": [],
   "source": [
    "class Autoencoder(Model):\n",
    "  def __init__(self, latent_dim, shape):\n",
    "    super(Autoencoder, self).__init__()\n",
    "    self.latent_dim = latent_dim\n",
    "    self.shape = shape\n",
    "    self.encoder = tf.keras.Sequential([\n",
    "      layers.Flatten(),\n",
    "      layers.Dense(latent_dim, activation='relu'),\n",
    "    ])\n",
    "    self.decoder = tf.keras.Sequential([\n",
    "      layers.Dense(tf.math.reduce_prod(shape).numpy(), activation='sigmoid'),\n",
    "      layers.Reshape(shape)\n",
    "    ])\n",
    "\n",
    "  def call(self, x):\n",
    "    encoded = self.encoder(x)\n",
    "    decoded = self.decoder(encoded)\n",
    "    return decoded\n",
    "\n",
    "\n",
    "shape = test.shape[1:]\n",
    "latent_dim = 64\n",
    "autoencoder = Autoencoder(latent_dim, shape)"
   ],
   "metadata": {
    "collapsed": false,
    "ExecuteTime": {
     "end_time": "2024-11-22T19:25:38.704767Z",
     "start_time": "2024-11-22T19:25:38.693248Z"
    }
   },
   "id": "186531811dab7bbd",
   "execution_count": 47
  },
  {
   "cell_type": "code",
   "outputs": [],
   "source": [
    "autoencoder.compile(optimizer='adam', loss=losses.MeanSquaredError())\n"
   ],
   "metadata": {
    "collapsed": false,
    "ExecuteTime": {
     "end_time": "2024-11-22T19:25:52.303820Z",
     "start_time": "2024-11-22T19:25:52.289070Z"
    }
   },
   "id": "e56a386fa6a9b21f",
   "execution_count": 48
  },
  {
   "cell_type": "code",
   "outputs": [
    {
     "name": "stdout",
     "output_type": "stream",
     "text": [
      "Epoch 1/10\n",
      "\u001B[1m38/38\u001B[0m \u001B[32m━━━━━━━━━━━━━━━━━━━━\u001B[0m\u001B[37m\u001B[0m \u001B[1m5s\u001B[0m 85ms/step - loss: 0.2102 - val_loss: 0.0534\n",
      "Epoch 2/10\n",
      "\u001B[1m38/38\u001B[0m \u001B[32m━━━━━━━━━━━━━━━━━━━━\u001B[0m\u001B[37m\u001B[0m \u001B[1m3s\u001B[0m 83ms/step - loss: 0.0439 - val_loss: 0.0480\n",
      "Epoch 3/10\n",
      "\u001B[1m38/38\u001B[0m \u001B[32m━━━━━━━━━━━━━━━━━━━━\u001B[0m\u001B[37m\u001B[0m \u001B[1m3s\u001B[0m 90ms/step - loss: 0.0408 - val_loss: 0.0471\n",
      "Epoch 4/10\n",
      "\u001B[1m38/38\u001B[0m \u001B[32m━━━━━━━━━━━━━━━━━━━━\u001B[0m\u001B[37m\u001B[0m \u001B[1m3s\u001B[0m 89ms/step - loss: 0.0385 - val_loss: 0.0467\n",
      "Epoch 5/10\n",
      "\u001B[1m38/38\u001B[0m \u001B[32m━━━━━━━━━━━━━━━━━━━━\u001B[0m\u001B[37m\u001B[0m \u001B[1m4s\u001B[0m 98ms/step - loss: 0.0388 - val_loss: 0.0465\n",
      "Epoch 6/10\n",
      "\u001B[1m38/38\u001B[0m \u001B[32m━━━━━━━━━━━━━━━━━━━━\u001B[0m\u001B[37m\u001B[0m \u001B[1m7s\u001B[0m 176ms/step - loss: 0.0414 - val_loss: 0.0463\n",
      "Epoch 7/10\n",
      "\u001B[1m38/38\u001B[0m \u001B[32m━━━━━━━━━━━━━━━━━━━━\u001B[0m\u001B[37m\u001B[0m \u001B[1m6s\u001B[0m 150ms/step - loss: 0.0360 - val_loss: 0.0462\n",
      "Epoch 8/10\n",
      "\u001B[1m38/38\u001B[0m \u001B[32m━━━━━━━━━━━━━━━━━━━━\u001B[0m\u001B[37m\u001B[0m \u001B[1m7s\u001B[0m 195ms/step - loss: 0.0361 - val_loss: 0.0462\n",
      "Epoch 9/10\n",
      "\u001B[1m38/38\u001B[0m \u001B[32m━━━━━━━━━━━━━━━━━━━━\u001B[0m\u001B[37m\u001B[0m \u001B[1m11s\u001B[0m 208ms/step - loss: 0.0383 - val_loss: 0.0461\n",
      "Epoch 10/10\n",
      "\u001B[1m38/38\u001B[0m \u001B[32m━━━━━━━━━━━━━━━━━━━━\u001B[0m\u001B[37m\u001B[0m \u001B[1m9s\u001B[0m 237ms/step - loss: 0.0394 - val_loss: 0.0461\n"
     ]
    },
    {
     "data": {
      "text/plain": "<keras.src.callbacks.history.History at 0x135e94cd0>"
     },
     "execution_count": 49,
     "metadata": {},
     "output_type": "execute_result"
    }
   ],
   "source": [
    "autoencoder.fit(train, train,\n",
    "                epochs=10,\n",
    "                shuffle=True,\n",
    "                validation_data=(test, test))"
   ],
   "metadata": {
    "collapsed": false,
    "ExecuteTime": {
     "end_time": "2024-11-22T19:27:08.747284Z",
     "start_time": "2024-11-22T19:26:08.533859Z"
    }
   },
   "id": "1c31c4da0aafff31",
   "execution_count": 49
  },
  {
   "cell_type": "code",
   "outputs": [],
   "source": [
    "encoded_frames = autoencoder.encoder(test).numpy()"
   ],
   "metadata": {
    "collapsed": false,
    "ExecuteTime": {
     "end_time": "2024-11-22T19:27:50.715832Z",
     "start_time": "2024-11-22T19:27:50.597647Z"
    }
   },
   "id": "d0af5ae564067aab",
   "execution_count": 50
  },
  {
   "cell_type": "code",
   "outputs": [
    {
     "data": {
      "text/plain": "(298, 64)"
     },
     "execution_count": 55,
     "metadata": {},
     "output_type": "execute_result"
    }
   ],
   "source": [
    "encoded_frames.shape"
   ],
   "metadata": {
    "collapsed": false,
    "ExecuteTime": {
     "end_time": "2024-11-22T19:40:51.859598Z",
     "start_time": "2024-11-22T19:40:51.844882Z"
    }
   },
   "id": "7ec43867dfda3d00",
   "execution_count": 55
  }
 ],
 "metadata": {
  "kernelspec": {
   "display_name": "Python 3",
   "language": "python",
   "name": "python3"
  },
  "language_info": {
   "codemirror_mode": {
    "name": "ipython",
    "version": 2
   },
   "file_extension": ".py",
   "mimetype": "text/x-python",
   "name": "python",
   "nbconvert_exporter": "python",
   "pygments_lexer": "ipython2",
   "version": "2.7.6"
  }
 },
 "nbformat": 4,
 "nbformat_minor": 5
}
